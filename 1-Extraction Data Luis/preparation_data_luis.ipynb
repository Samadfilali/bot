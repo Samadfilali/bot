{
 "cells": [
  {
   "cell_type": "code",
   "execution_count": 1,
   "id": "contained-standard",
   "metadata": {},
   "outputs": [],
   "source": [
    "import pandas as pd\n",
    "from frames.utils import get_users_for_fold, key_value_pairs\n",
    "import json\n",
    "import re\n",
    "import hashlib"
   ]
  },
  {
   "cell_type": "code",
   "execution_count": 2,
   "id": "rough-collins",
   "metadata": {},
   "outputs": [],
   "source": [
    "# to load jason frame\n",
    "with open(\"C:/Users/samad/P10test/frames/data/frames.json\") as json_data:\n",
    "    data_dict = json.load(json_data)"
   ]
  },
  {
   "cell_type": "code",
   "execution_count": 3,
   "id": "geological-coach",
   "metadata": {},
   "outputs": [],
   "source": [
    "#generate train and test data\n",
    "with open(\"frames.json\") as f:\n",
    "    dialogues = json.load(f)\n",
    "\n",
    "fold = 1\n",
    "test_users = get_users_for_fold(fold)\n",
    "train_users = get_users_for_fold(-fold)\n",
    "\n",
    "train_dialogues = [d for d in dialogues if d['user_id'] in train_users]\n",
    "test_dialogues = [d for d in dialogues if d['user_id'] in test_users]"
   ]
  },
  {
   "cell_type": "code",
   "execution_count": 4,
   "id": "about-bookmark",
   "metadata": {},
   "outputs": [],
   "source": [
    "# Liste des entités"
   ]
  },
  {
   "cell_type": "code",
   "execution_count": 5,
   "id": "interesting-horizon",
   "metadata": {},
   "outputs": [],
   "source": [
    "list_entities=['dst_city','or_city','budget','str_date','end_date']\n",
    "file_path='fichier.temp'"
   ]
  },
  {
   "cell_type": "code",
   "execution_count": 6,
   "id": "floating-apparatus",
   "metadata": {
    "scrolled": true
   },
   "outputs": [],
   "source": [
    "def extraction_of_information(dialogues,file_path, entities) :\n",
    "    with open(file_path, 'w') as f:\n",
    "        for  dialogue in dialogues :\n",
    "            for turn in dialogue['turns'] :\n",
    "                if turn['author'] =='user' :\n",
    "                    for act in turn['labels']['acts'] :\n",
    "                        if act['name']=='inform' :\n",
    "                            texte=re.sub(r\"[\\n]*\", \"\", turn['text'])\n",
    "                            texte=\"- \"+texte+\" \\n\"\n",
    "                            val_key = key_value_pairs(act)\n",
    "                            for v in val_key : \n",
    "                                if v[0] in entities :\n",
    "                                    texte=texte.replace(str(v[1]),\"{@\"+v[0]+\"=\"+str(v[1])+\"} \")\n",
    "                f.writelines(texte)\n",
    "                            "
   ]
  },
  {
   "cell_type": "code",
   "execution_count": 7,
   "id": "piano-carpet",
   "metadata": {},
   "outputs": [],
   "source": [
    "def remove_duplicated_lines(input_file_path) :\n",
    "    output_file_path = \"FlightBooking.lu\"\n",
    "    #2\n",
    "    completed_lines_hash = set()\n",
    "    #3\n",
    "    output_file = open(output_file_path, \"w\")\n",
    "    output_file.write(\"# BookFlight \\n\\n\")\n",
    "    #4\n",
    "    for line in open(input_file_path, \"r\"):\n",
    "        #5\n",
    "        hashValue = hashlib.md5(line.rstrip().encode('utf-8')).hexdigest()\n",
    "        #6\n",
    "        if hashValue not in completed_lines_hash:\n",
    "            if \"@\" in line :\n",
    "                line=line.replace(\"@or_city\",\"@From\")\n",
    "                line=line.replace(\"@dst_city\",\"@To\")\n",
    "                output_file.write(line)\n",
    "                completed_lines_hash.add(hashValue)\n",
    "    #7\n",
    "    output_file.write(\" \\n\\n\")\n",
    "    output_file.write(\"> # Composite entities \\n\\n\")\n",
    "    output_file.write(\"@ composite str_date = [datetimeV2] \\n\")\n",
    "    output_file.write(\"@ composite end_date = [datetimeV2] \\n\")\n",
    "    output_file.close()\n",
    "    "
   ]
  },
  {
   "cell_type": "code",
   "execution_count": 8,
   "id": "ordinary-trainer",
   "metadata": {},
   "outputs": [],
   "source": [
    "extraction_of_information(train_dialogues,file_path,list_entities)"
   ]
  },
  {
   "cell_type": "code",
   "execution_count": 9,
   "id": "elder-penny",
   "metadata": {},
   "outputs": [],
   "source": [
    "remove_duplicated_lines(file_path)"
   ]
  },
  {
   "cell_type": "code",
   "execution_count": null,
   "id": "amended-thomas",
   "metadata": {},
   "outputs": [],
   "source": []
  }
 ],
 "metadata": {
  "kernelspec": {
   "display_name": "Python 3",
   "language": "python",
   "name": "python3"
  },
  "language_info": {
   "codemirror_mode": {
    "name": "ipython",
    "version": 3
   },
   "file_extension": ".py",
   "mimetype": "text/x-python",
   "name": "python",
   "nbconvert_exporter": "python",
   "pygments_lexer": "ipython3",
   "version": "3.8.5"
  }
 },
 "nbformat": 4,
 "nbformat_minor": 5
}
